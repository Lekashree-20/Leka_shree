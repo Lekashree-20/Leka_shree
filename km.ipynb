{
 "cells": [
  {
   "cell_type": "code",
   "execution_count": 2,
   "metadata": {},
   "outputs": [
    {
     "name": "stdout",
     "output_type": "stream",
     "text": [
      "Enter a kilometer 10\n",
      "The Meter of  10 is  10000 m\n"
     ]
    }
   ],
   "source": [
    "km=int(input(\"Enter a kilometer:\"))\n",
    "print(\"Enter a kilometer\",km)\n",
    "m=km*1000\n",
    "print(\"The Meter of \",km,\"is \",m,\"m\")"
   ]
  }
 ],
 "metadata": {
  "kernelspec": {
   "display_name": "Python 3.9.12 ('base')",
   "language": "python",
   "name": "python3"
  },
  "language_info": {
   "codemirror_mode": {
    "name": "ipython",
    "version": 3
   },
   "file_extension": ".py",
   "mimetype": "text/x-python",
   "name": "python",
   "nbconvert_exporter": "python",
   "pygments_lexer": "ipython3",
   "version": "3.9.12"
  },
  "orig_nbformat": 4,
  "vscode": {
   "interpreter": {
    "hash": "a71a9e4fb054fff428071484f7faa898cb9ecb31a518fe88e3463da9af879578"
   }
  }
 },
 "nbformat": 4,
 "nbformat_minor": 2
}

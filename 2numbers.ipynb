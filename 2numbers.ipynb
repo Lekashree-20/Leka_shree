{
 "cells": [
  {
   "cell_type": "code",
   "execution_count": 1,
   "metadata": {},
   "outputs": [
    {
     "name": "stdout",
     "output_type": "stream",
     "text": [
      "Smallest element is: 23\n",
      "[23, 45, 56, 90, 76]\n"
     ]
    }
   ],
   "source": [
    "list1 = []\n",
    "n = int(input(\"Enter number of elements in list: \"))\n",
    "for i in range(1, n + 1):\n",
    "    element = int(input(\"Enter elements: \"))\n",
    "    list1.append(element)\n",
    "print(\"Smallest element is:\", min(list1))\n",
    "print(list1)"
   ]
  }
 ],
 "metadata": {
  "kernelspec": {
   "display_name": "Python 3.9.12 ('base')",
   "language": "python",
   "name": "python3"
  },
  "language_info": {
   "codemirror_mode": {
    "name": "ipython",
    "version": 3
   },
   "file_extension": ".py",
   "mimetype": "text/x-python",
   "name": "python",
   "nbconvert_exporter": "python",
   "pygments_lexer": "ipython3",
   "version": "3.9.12"
  },
  "orig_nbformat": 4,
  "vscode": {
   "interpreter": {
    "hash": "a71a9e4fb054fff428071484f7faa898cb9ecb31a518fe88e3463da9af879578"
   }
  }
 },
 "nbformat": 4,
 "nbformat_minor": 2
}
